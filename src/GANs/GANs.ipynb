{
  "nbformat": 4,
  "nbformat_minor": 0,
  "metadata": {
    "colab": {
      "name": "GANs.ipynb",
      "provenance": []
    },
    "kernelspec": {
      "name": "python3",
      "display_name": "Python 3"
    }
  },
  "cells": [
    {
      "cell_type": "code",
      "metadata": {
        "id": "Nf1sCpFS1Ihk",
        "colab_type": "code",
        "colab": {}
      },
      "source": [
        "from keras.layers import Dense, Dropout, Input, ReLU\n",
        "from keras.models import Sequential, Model\n",
        "from keras.optimizers import Adam\n",
        "from keras.datasets import mnist\n",
        "import numpy as np\n",
        "import matplotlib.pyplot as plt"
      ],
      "execution_count": null,
      "outputs": []
    },
    {
      "cell_type": "code",
      "metadata": {
        "id": "lGj8tdUu3mim",
        "colab_type": "code",
        "colab": {
          "base_uri": "https://localhost:8080/",
          "height": 51
        },
        "outputId": "4b8ce767-4f4f-427a-e1cf-e38e083b896a"
      },
      "source": [
        "(x_train,y_train),(x_test,y_test) = mnist.load_data()"
      ],
      "execution_count": null,
      "outputs": [
        {
          "output_type": "stream",
          "text": [
            "Downloading data from https://s3.amazonaws.com/img-datasets/mnist.npz\n",
            "11493376/11490434 [==============================] - 1s 0us/step\n"
          ],
          "name": "stdout"
        }
      ]
    },
    {
      "cell_type": "code",
      "metadata": {
        "id": "OB_M8tu93zdx",
        "colab_type": "code",
        "colab": {}
      },
      "source": [
        "x_train = (x_train.astype(np.float32)-127.5) / 127.5"
      ],
      "execution_count": null,
      "outputs": []
    },
    {
      "cell_type": "code",
      "metadata": {
        "id": "hRpCetzX4IGa",
        "colab_type": "code",
        "colab": {
          "base_uri": "https://localhost:8080/",
          "height": 34
        },
        "outputId": "d48dff51-530f-4354-f61f-9e8bbbda046a"
      },
      "source": [
        "print(x_train.shape)"
      ],
      "execution_count": null,
      "outputs": [
        {
          "output_type": "stream",
          "text": [
            "(60000, 28, 28)\n"
          ],
          "name": "stdout"
        }
      ]
    },
    {
      "cell_type": "code",
      "metadata": {
        "id": "drjY3N194KID",
        "colab_type": "code",
        "colab": {}
      },
      "source": [
        "x_train = x_train.reshape(x_train.shape[0],x_train.shape[1]*x_train.shape[2])"
      ],
      "execution_count": null,
      "outputs": []
    },
    {
      "cell_type": "code",
      "metadata": {
        "id": "LuegUiOO4ZUR",
        "colab_type": "code",
        "colab": {
          "base_uri": "https://localhost:8080/",
          "height": 34
        },
        "outputId": "a381a051-3888-4fa1-e9aa-d16bd93ca9da"
      },
      "source": [
        "print(x_train.shape)"
      ],
      "execution_count": null,
      "outputs": [
        {
          "output_type": "stream",
          "text": [
            "(60000, 784)\n"
          ],
          "name": "stdout"
        }
      ]
    },
    {
      "cell_type": "code",
      "metadata": {
        "id": "26fWIDib4dyB",
        "colab_type": "code",
        "colab": {
          "base_uri": "https://localhost:8080/",
          "height": 282
        },
        "outputId": "6e4b96ef-8288-426c-963a-ce3d9059debb"
      },
      "source": [
        "plt.imshow(x_test[3344])"
      ],
      "execution_count": null,
      "outputs": [
        {
          "output_type": "execute_result",
          "data": {
            "text/plain": [
              "<matplotlib.image.AxesImage at 0x7fbb18e62dd8>"
            ]
          },
          "metadata": {
            "tags": []
          },
          "execution_count": 10
        },
        {
          "output_type": "display_data",
          "data": {
            "image/png": "[encoded data removed]",
            "text/plain": [
              "<Figure size 432x288 with 1 Axes>"
            ]
          },
          "metadata": {
            "tags": [],
            "needs_background": "light"
          }
        }
      ]
    },
    {
      "cell_type": "code",
      "metadata": {
        "id": "DXM1L41z4h0M",
        "colab_type": "code",
        "colab": {}
      },
      "source": [
        "#create generator\n",
        "def create_generator():\n",
        "  generator = Sequential() #layerları üstüne ekleyeceğimiz yapıyı yarattık.\n",
        "\n",
        "  generator.add(Dense(units=512, input_dim=100))\n",
        "  generator.add(ReLU())\n",
        "\n",
        "  generator.add(Dense(units=512))\n",
        "  generator.add(ReLU())\n",
        "\n",
        "  generator.add(Dense(units=1024))\n",
        "  generator.add(ReLU())\n",
        "\n",
        "  generator.add(Dense(units=784, activation = \"tanh\"))\n",
        "\n",
        "  generator.compile(loss = \"binary_crossentropy\", optimizer = Adam(lr = 0.0001, beta_1 = 0.5)) #beta kendini güncelleme parametresi\n",
        "\n",
        "  return generator"
      ],
      "execution_count": null,
      "outputs": []
    },
    {
      "cell_type": "code",
      "metadata": {
        "id": "FjSCwpxC6eJ2",
        "colab_type": "code",
        "colab": {
          "base_uri": "https://localhost:8080/",
          "height": 391
        },
        "outputId": "69c30636-f926-4b31-a923-609a9994d47f"
      },
      "source": [
        "g = create_generator()\n",
        "g.summary()"
      ],
      "execution_count": null,
      "outputs": [
        {
          "output_type": "stream",
          "text": [
            "Model: \"sequential_3\"\n",
            "_________________________________________________________________\n",
            "Layer (type)                 Output Shape              Param #   \n",
            "=================================================================\n",
            "dense_6 (Dense)              (None, 512)               51712     \n",
            "_________________________________________________________________\n",
            "re_lu_4 (ReLU)               (None, 512)               0         \n",
            "_________________________________________________________________\n",
            "dense_7 (Dense)              (None, 512)               262656    \n",
            "_________________________________________________________________\n",
            "re_lu_5 (ReLU)               (None, 512)               0         \n",
            "_________________________________________________________________\n",
            "dense_8 (Dense)              (None, 1024)              525312    \n",
            "_________________________________________________________________\n",
            "re_lu_6 (ReLU)               (None, 1024)              0         \n",
            "_________________________________________________________________\n",
            "dense_9 (Dense)              (None, 784)               803600    \n",
            "=================================================================\n",
            "Total params: 1,643,280\n",
            "Trainable params: 1,643,280\n",
            "Non-trainable params: 0\n",
            "_________________________________________________________________\n"
          ],
          "name": "stdout"
        }
      ]
    },
    {
      "cell_type": "code",
      "metadata": {
        "id": "hSt-6TIQ6jCD",
        "colab_type": "code",
        "colab": {}
      },
      "source": [
        "def create_discriminator():\n",
        "  discriminator = Sequential()\n",
        "\n",
        "  discriminator.add(Dense(units=1024, input_dim = 784))\n",
        "  discriminator.add(ReLU())\n",
        "  discriminator.add(Dropout(0.4))\n",
        "\n",
        "  discriminator.add(Dense(units=512))\n",
        "  discriminator.add(ReLU())\n",
        "  discriminator.add(Dropout(0.4))\n",
        "\n",
        "  discriminator.add(Dense(units=256))\n",
        "  discriminator.add(ReLU())\n",
        "\n",
        "  discriminator.add(Dense(units=1, activation=\"sigmoid\"))\n",
        "\n",
        "  discriminator.compile(loss = \"binary_crossentropy\", optimizer = Adam(lr=0.001, beta_1=0.5))\n",
        "  return discriminator"
      ],
      "execution_count": null,
      "outputs": []
    },
    {
      "cell_type": "code",
      "metadata": {
        "id": "9x5Y8dkg8JPm",
        "colab_type": "code",
        "colab": {
          "base_uri": "https://localhost:8080/",
          "height": 459
        },
        "outputId": "7d8a1403-6815-4066-c10c-e5d87e471ea4"
      },
      "source": [
        "d = create_discriminator()\n",
        "d.summary()"
      ],
      "execution_count": null,
      "outputs": [
        {
          "output_type": "stream",
          "text": [
            "Model: \"sequential_4\"\n",
            "_________________________________________________________________\n",
            "Layer (type)                 Output Shape              Param #   \n",
            "=================================================================\n",
            "dense_10 (Dense)             (None, 1024)              803840    \n",
            "_________________________________________________________________\n",
            "re_lu_7 (ReLU)               (None, 1024)              0         \n",
            "_________________________________________________________________\n",
            "dropout_1 (Dropout)          (None, 1024)              0         \n",
            "_________________________________________________________________\n",
            "dense_11 (Dense)             (None, 512)               524800    \n",
            "_________________________________________________________________\n",
            "re_lu_8 (ReLU)               (None, 512)               0         \n",
            "_________________________________________________________________\n",
            "dropout_2 (Dropout)          (None, 512)               0         \n",
            "_________________________________________________________________\n",
            "dense_12 (Dense)             (None, 256)               131328    \n",
            "_________________________________________________________________\n",
            "re_lu_9 (ReLU)               (None, 256)               0         \n",
            "_________________________________________________________________\n",
            "dense_13 (Dense)             (None, 1)                 257       \n",
            "=================================================================\n",
            "Total params: 1,460,225\n",
            "Trainable params: 1,460,225\n",
            "Non-trainable params: 0\n",
            "_________________________________________________________________\n"
          ],
          "name": "stdout"
        }
      ]
    },
    {
      "cell_type": "code",
      "metadata": {
        "id": "S3SMaD7Y8M1g",
        "colab_type": "code",
        "colab": {}
      },
      "source": [
        "#GANs\n",
        "def create_gan(discriminator, generator):\n",
        "  discriminator.trainable = False\n",
        "  gan_input = Input(shape = (100,))\n",
        "  x = generator(gan_input)\n",
        "  gan_output = discriminator(x)\n",
        "  gan = Model(inputs= gan_input, outputs = gan_output)\n",
        "  gan.compile(loss = \"binary_crossentropy\", optimizer = \"adam\")\n",
        "  return gan"
      ],
      "execution_count": null,
      "outputs": []
    },
    {
      "cell_type": "code",
      "metadata": {
        "id": "n4MrvJULFmUz",
        "colab_type": "code",
        "colab": {
          "base_uri": "https://localhost:8080/",
          "height": 255
        },
        "outputId": "eec01209-4063-498e-d685-73a48add8e4e"
      },
      "source": [
        "gans = create_gan(d,g)\n",
        "gans.summary()"
      ],
      "execution_count": null,
      "outputs": [
        {
          "output_type": "stream",
          "text": [
            "Model: \"model_1\"\n",
            "_________________________________________________________________\n",
            "Layer (type)                 Output Shape              Param #   \n",
            "=================================================================\n",
            "input_1 (InputLayer)         (None, 100)               0         \n",
            "_________________________________________________________________\n",
            "sequential_3 (Sequential)    (None, 784)               1643280   \n",
            "_________________________________________________________________\n",
            "sequential_4 (Sequential)    (None, 1)                 1460225   \n",
            "=================================================================\n",
            "Total params: 3,103,505\n",
            "Trainable params: 1,643,280\n",
            "Non-trainable params: 1,460,225\n",
            "_________________________________________________________________\n"
          ],
          "name": "stdout"
        }
      ]
    },
    {
      "cell_type": "code",
      "metadata": {
        "id": "PORSDZ6SFzGf",
        "colab_type": "code",
        "colab": {}
      },
      "source": [
        "#Train\n",
        "epochs = 50\n",
        "batch_size= 256"
      ],
      "execution_count": null,
      "outputs": []
    },
    {
      "cell_type": "code",
      "metadata": {
        "id": "H-EoV6j_GePB",
        "colab_type": "code",
        "colab": {
          "base_uri": "https://localhost:8080/",
          "height": 867
        },
        "outputId": "f22d731f-e23d-4296-f2cc-6c741dddce85"
      },
      "source": [
        "for e in range(epochs):\n",
        "  for _ in range (batch_size):\n",
        "    noise = np.random.normal(0,1, [batch_size, 100]) #noise tanımladım\n",
        "    generated_images = g.predict(noise)#noise u generatora verdim ve bana rastgele bir image generate etti.\n",
        "    image_batch = x_train[np.random.randint(low = 0, high=x_train.shape[0], size = batch_size)] #256 resim seçenek train içinden\n",
        "    x = np.concatenate([image_batch, generated_images])\n",
        "\n",
        "    y_dis = np.zeros(batch_size*2) #discriminator için labellerı yaratıyoruz.\n",
        "    y_dis[:batch_size] = 1 #bacth size kadar olanlara 1 dedim çünkü onlar gerçek resim. Yani image_batch in labeli 1, generated_images labeli 0\n",
        "    \n",
        "    d.trainable = True\n",
        "    d.train_on_batch(x,y_dis)\n",
        "\n",
        "    noise = np.random.normal(0,1, [batch_size,100])\n",
        "    y_gen = np.ones(batch_size)#discriminator ı kandırmak için 1 yaptık\n",
        "\n",
        "    d.trainable = False\n",
        "\n",
        "    gans.train_on_batch(noise, y_gen)\n",
        "  print(\"Epochs: \", e)"
      ],
      "execution_count": null,
      "outputs": [
        {
          "output_type": "stream",
          "text": [
            "Epochs:  0\n",
            "Epochs:  1\n",
            "Epochs:  2\n",
            "Epochs:  3\n",
            "Epochs:  4\n",
            "Epochs:  5\n",
            "Epochs:  6\n",
            "Epochs:  7\n",
            "Epochs:  8\n",
            "Epochs:  9\n",
            "Epochs:  10\n",
            "Epochs:  11\n",
            "Epochs:  12\n",
            "Epochs:  13\n",
            "Epochs:  14\n",
            "Epochs:  15\n",
            "Epochs:  16\n",
            "Epochs:  17\n",
            "Epochs:  18\n",
            "Epochs:  19\n",
            "Epochs:  20\n",
            "Epochs:  21\n",
            "Epochs:  22\n",
            "Epochs:  23\n",
            "Epochs:  24\n",
            "Epochs:  25\n",
            "Epochs:  26\n",
            "Epochs:  27\n",
            "Epochs:  28\n",
            "Epochs:  29\n",
            "Epochs:  30\n",
            "Epochs:  31\n",
            "Epochs:  32\n",
            "Epochs:  33\n",
            "Epochs:  34\n",
            "Epochs:  35\n",
            "Epochs:  36\n",
            "Epochs:  37\n",
            "Epochs:  38\n",
            "Epochs:  39\n",
            "Epochs:  40\n",
            "Epochs:  41\n",
            "Epochs:  42\n",
            "Epochs:  43\n",
            "Epochs:  44\n",
            "Epochs:  45\n",
            "Epochs:  46\n",
            "Epochs:  47\n",
            "Epochs:  48\n",
            "Epochs:  49\n"
          ],
          "name": "stdout"
        }
      ]
    },
    {
      "cell_type": "code",
      "metadata": {
        "id": "wUoPkE4OIswk",
        "colab_type": "code",
        "colab": {}
      },
      "source": [
        "g.save_weights('gans_model.h5')"
      ],
      "execution_count": null,
      "outputs": []
    },
    {
      "cell_type": "code",
      "metadata": {
        "id": "CfpUX1akJKyN",
        "colab_type": "code",
        "colab": {
          "base_uri": "https://localhost:8080/",
          "height": 248
        },
        "outputId": "249e14b4-6aec-4d47-f992-31151bab4085"
      },
      "source": [
        "#visualize\n",
        "noise = np.random.normal(loc = 0, scale= 1, size= [100,100])\n",
        "generated_images = g.predict(noise)\n",
        "generated_images = generated_images.reshape(100,28,28)\n",
        "plt.imshow(generated_images[40],interpolation = \"nearest\")\n",
        "plt.axis(\"off\")\n",
        "plt.show()"
      ],
      "execution_count": null,
      "outputs": [
        {
          "output_type": "display_data",
          "data": {
            "image/png": "[encoded data removed]",
            "text/plain": [
              "<Figure size 432x288 with 1 Axes>"
            ]
          },
          "metadata": {
            "tags": [],
            "needs_background": "light"
          }
        }
      ]
    }
  ]
}