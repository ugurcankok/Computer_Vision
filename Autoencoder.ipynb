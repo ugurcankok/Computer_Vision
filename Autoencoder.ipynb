{
  "nbformat": 4,
  "nbformat_minor": 0,
  "metadata": {
    "colab": {
      "name": "Autoencoder.ipynb",
      "provenance": []
    },
    "kernelspec": {
      "name": "python3",
      "display_name": "Python 3"
    }
  },
  "cells": [
    {
      "cell_type": "code",
      "metadata": {
        "id": "b0vmGxTgwTsC",
        "colab_type": "code",
        "colab": {
          "base_uri": "https://localhost:8080/",
          "height": 34
        },
        "outputId": "0dff2799-4fec-42ea-ec3c-0a0e8b0f19cd"
      },
      "source": [
        "from keras.models import Model\n",
        "from keras.layers import Dense, Input\n",
        "from keras.datasets import fashion_mnist\n",
        "import matplotlib.pyplot as plt\n",
        "import json, codecs\n",
        "import warnings\n",
        "warnings.filterwarnings(\"ignore\")"
      ],
      "execution_count": null,
      "outputs": [
        {
          "output_type": "stream",
          "text": [
            "Using TensorFlow backend.\n"
          ],
          "name": "stderr"
        }
      ]
    },
    {
      "cell_type": "code",
      "metadata": {
        "id": "7zbyvgJt_jSM",
        "colab_type": "code",
        "colab": {
          "base_uri": "https://localhost:8080/",
          "height": 153
        },
        "outputId": "095c3238-6d51-4b3e-ec59-29187e8eb8d0"
      },
      "source": [
        "#Unsupervised learning yaptığım için labelim yok yani y_train diye bölmeme gerek label için.\n",
        "(x_train, _),(x_test, _ ) = fashion_mnist.load_data() #train datasetini kullanmıyorum fakat program tanımla diyor bende kullanmadığım değişken yerine _ koydum."
      ],
      "execution_count": null,
      "outputs": [
        {
          "output_type": "stream",
          "text": [
            "Downloading data from http://fashion-mnist.s3-website.eu-central-1.amazonaws.com/train-labels-idx1-ubyte.gz\n",
            "32768/29515 [=================================] - 0s 3us/step\n",
            "Downloading data from http://fashion-mnist.s3-website.eu-central-1.amazonaws.com/train-images-idx3-ubyte.gz\n",
            "26427392/26421880 [==============================] - 2s 0us/step\n",
            "Downloading data from http://fashion-mnist.s3-website.eu-central-1.amazonaws.com/t10k-labels-idx1-ubyte.gz\n",
            "8192/5148 [===============================================] - 0s 0us/step\n",
            "Downloading data from http://fashion-mnist.s3-website.eu-central-1.amazonaws.com/t10k-images-idx3-ubyte.gz\n",
            "4423680/4422102 [==============================] - 1s 0us/step\n"
          ],
          "name": "stdout"
        }
      ]
    },
    {
      "cell_type": "code",
      "metadata": {
        "id": "bz95lkwJ_Gsl",
        "colab_type": "code",
        "colab": {
          "base_uri": "https://localhost:8080/",
          "height": 34
        },
        "outputId": "50855fad-23bc-4f9d-e2c3-7baaf0b59e78"
      },
      "source": [
        "print(type(x_train))"
      ],
      "execution_count": null,
      "outputs": [
        {
          "output_type": "stream",
          "text": [
            "<class 'numpy.ndarray'>\n"
          ],
          "name": "stdout"
        }
      ]
    },
    {
      "cell_type": "code",
      "metadata": {
        "id": "NFWsNQCaAdlt",
        "colab_type": "code",
        "colab": {}
      },
      "source": [
        "x_train = x_train.astype(\"float32\") / 255.0\n",
        "x_test = x_test.astype(\"float32\") / 255.0"
      ],
      "execution_count": null,
      "outputs": []
    },
    {
      "cell_type": "code",
      "metadata": {
        "id": "pgKWWaESBFMY",
        "colab_type": "code",
        "colab": {
          "base_uri": "https://localhost:8080/",
          "height": 34
        },
        "outputId": "4ed3e573-5e91-4381-be27-bfba32aaa7bb"
      },
      "source": [
        "x_train.shape"
      ],
      "execution_count": null,
      "outputs": [
        {
          "output_type": "execute_result",
          "data": {
            "text/plain": [
              "(60000, 28, 28)"
            ]
          },
          "metadata": {
            "tags": []
          },
          "execution_count": 33
        }
      ]
    },
    {
      "cell_type": "code",
      "metadata": {
        "id": "Z77ryaiQBJZZ",
        "colab_type": "code",
        "colab": {
          "base_uri": "https://localhost:8080/",
          "height": 34
        },
        "outputId": "497b684f-d0b2-44db-bc4c-d5c339c97f41"
      },
      "source": [
        "x_train.shape[1:]"
      ],
      "execution_count": null,
      "outputs": [
        {
          "output_type": "execute_result",
          "data": {
            "text/plain": [
              "(28, 28)"
            ]
          },
          "metadata": {
            "tags": []
          },
          "execution_count": 34
        }
      ]
    },
    {
      "cell_type": "code",
      "metadata": {
        "id": "tzJQ8nK7AzYE",
        "colab_type": "code",
        "colab": {}
      },
      "source": [
        "x_train = x_train.reshape((len(x_train), x_train.shape[1:][0]*x_train.shape[1:][1]))"
      ],
      "execution_count": null,
      "outputs": []
    },
    {
      "cell_type": "code",
      "metadata": {
        "id": "WO125Xi9BhzI",
        "colab_type": "code",
        "colab": {}
      },
      "source": [
        "x_test = x_test.reshape((len(x_test), x_test.shape[1:][0]*x_test.shape[1:][1]))"
      ],
      "execution_count": null,
      "outputs": []
    },
    {
      "cell_type": "code",
      "metadata": {
        "id": "1JhMsDUnBnOp",
        "colab_type": "code",
        "colab": {
          "base_uri": "https://localhost:8080/",
          "height": 248
        },
        "outputId": "b13e33e2-517e-4316-b318-8ee1247cc23e"
      },
      "source": [
        "plt.imshow(x_train[100].reshape(28,28)) #matplotlib de görselleştirme yapabilmek için reshape yaptık\n",
        "plt.axis(\"off\")\n",
        "plt.show()"
      ],
      "execution_count": null,
      "outputs": [
        {
          "output_type": "display_data",
          "data": {
            "image/png": "[encoded data removed]",
            "text/plain": [
              "<Figure size 432x288 with 1 Axes>"
            ]
          },
          "metadata": {
            "tags": [],
            "needs_background": "light"
          }
        }
      ]
    },
    {
      "cell_type": "code",
      "metadata": {
        "id": "gxztTkNiCEtd",
        "colab_type": "code",
        "colab": {}
      },
      "source": [
        "#Resimlerimiz tamam, şimdi autoencoder yapacaz. input 784 nuerondan oluşacak çünkü 28*28 yaptık ya.\n",
        "input_img = Input(shape=(784,)) #input layer tamamlandı.\n",
        "encoded = Dense(32, activation = 'relu',)(input_img) #encoder oluşturuldu. 32 layerlı. input_img yazdın birbirine bağlamak için\n",
        "encoded = Dense(16, activation = 'relu',)(encoded) #encoder yaptım bir tane daha. Parantez içleri birbirine bağlamak için kullanıyoruz.\n",
        "decoded = Dense(32, activation = 'relu',)(encoded)\n",
        "output = Dense(784, activation = 'sigmoid',)(decoded)\n",
        "autoencoder = Model(input_img,output) #autoencoder modeli oluşturuldu. Şimdi compile edecez."
      ],
      "execution_count": null,
      "outputs": []
    },
    {
      "cell_type": "code",
      "metadata": {
        "id": "AhRdyxljExFP",
        "colab_type": "code",
        "colab": {}
      },
      "source": [
        "autoencoder.compile(optimizer = 'rmsprop', loss = 'binary_crossentropy')"
      ],
      "execution_count": null,
      "outputs": []
    },
    {
      "cell_type": "code",
      "metadata": {
        "id": "jDPq54WNFB_l",
        "colab_type": "code",
        "colab": {
          "base_uri": "https://localhost:8080/",
          "height": 884
        },
        "outputId": "2eab969a-d0d5-492e-9dc0-f9d442fe235f"
      },
      "source": [
        "history = autoencoder.fit(x_train, x_train, epochs = 25, batch_size = 256, shuffle = True, validation_data = (x_train,x_train)) #input ve output aynı olduğu için x_train veriyoruz "
      ],
      "execution_count": null,
      "outputs": [
        {
          "output_type": "stream",
          "text": [
            "Train on 60000 samples, validate on 60000 samples\n",
            "Epoch 1/25\n",
            "60000/60000 [==============================] - 4s 61us/step - loss: 0.4007 - val_loss: 0.3475\n",
            "Epoch 2/25\n",
            "60000/60000 [==============================] - 3s 57us/step - loss: 0.3385 - val_loss: 0.3291\n",
            "Epoch 3/25\n",
            "60000/60000 [==============================] - 3s 56us/step - loss: 0.3265 - val_loss: 0.3212\n",
            "Epoch 4/25\n",
            "60000/60000 [==============================] - 3s 55us/step - loss: 0.3202 - val_loss: 0.3180\n",
            "Epoch 5/25\n",
            "60000/60000 [==============================] - 3s 57us/step - loss: 0.3160 - val_loss: 0.3141\n",
            "Epoch 6/25\n",
            "60000/60000 [==============================] - 3s 57us/step - loss: 0.3129 - val_loss: 0.3134\n",
            "Epoch 7/25\n",
            "60000/60000 [==============================] - 3s 57us/step - loss: 0.3104 - val_loss: 0.3082\n",
            "Epoch 8/25\n",
            "60000/60000 [==============================] - 3s 57us/step - loss: 0.3082 - val_loss: 0.3067\n",
            "Epoch 9/25\n",
            "60000/60000 [==============================] - 4s 60us/step - loss: 0.3060 - val_loss: 0.3046\n",
            "Epoch 10/25\n",
            "60000/60000 [==============================] - 3s 55us/step - loss: 0.3043 - val_loss: 0.3040\n",
            "Epoch 11/25\n",
            "60000/60000 [==============================] - 3s 56us/step - loss: 0.3030 - val_loss: 0.3031\n",
            "Epoch 12/25\n",
            "60000/60000 [==============================] - 4s 61us/step - loss: 0.3020 - val_loss: 0.3010\n",
            "Epoch 13/25\n",
            "60000/60000 [==============================] - 3s 56us/step - loss: 0.3011 - val_loss: 0.3038\n",
            "Epoch 14/25\n",
            "60000/60000 [==============================] - 3s 56us/step - loss: 0.3004 - val_loss: 0.3006\n",
            "Epoch 15/25\n",
            "60000/60000 [==============================] - 3s 58us/step - loss: 0.2997 - val_loss: 0.2987\n",
            "Epoch 16/25\n",
            "60000/60000 [==============================] - 3s 58us/step - loss: 0.2992 - val_loss: 0.2988\n",
            "Epoch 17/25\n",
            "60000/60000 [==============================] - 4s 58us/step - loss: 0.2987 - val_loss: 0.2986\n",
            "Epoch 18/25\n",
            "60000/60000 [==============================] - 3s 56us/step - loss: 0.2982 - val_loss: 0.2981\n",
            "Epoch 19/25\n",
            "60000/60000 [==============================] - 4s 65us/step - loss: 0.2977 - val_loss: 0.2985\n",
            "Epoch 20/25\n",
            "60000/60000 [==============================] - 4s 62us/step - loss: 0.2974 - val_loss: 0.2973\n",
            "Epoch 21/25\n",
            "60000/60000 [==============================] - 3s 56us/step - loss: 0.2970 - val_loss: 0.2967\n",
            "Epoch 22/25\n",
            "60000/60000 [==============================] - 4s 59us/step - loss: 0.2967 - val_loss: 0.2960\n",
            "Epoch 23/25\n",
            "60000/60000 [==============================] - 4s 59us/step - loss: 0.2964 - val_loss: 0.2979\n",
            "Epoch 24/25\n",
            "60000/60000 [==============================] - 4s 59us/step - loss: 0.2961 - val_loss: 0.2959\n",
            "Epoch 25/25\n",
            "60000/60000 [==============================] - 3s 57us/step - loss: 0.2958 - val_loss: 0.2958\n"
          ],
          "name": "stdout"
        }
      ]
    },
    {
      "cell_type": "code",
      "metadata": {
        "id": "A_KStafIGJdF",
        "colab_type": "code",
        "colab": {}
      },
      "source": [
        "#Günler sürecek olan çalışmalarda işine yarar.\n",
        "autoencoder.save_weights(\"autoencoder_model.h5\")"
      ],
      "execution_count": null,
      "outputs": []
    },
    {
      "cell_type": "code",
      "metadata": {
        "id": "QDQvze0eGrUB",
        "colab_type": "code",
        "colab": {
          "base_uri": "https://localhost:8080/",
          "height": 34
        },
        "outputId": "d9a5bbed-88fa-443b-9b2b-f8875b762831"
      },
      "source": [
        "#evaluation\n",
        "print(history.history.keys())"
      ],
      "execution_count": null,
      "outputs": [
        {
          "output_type": "stream",
          "text": [
            "dict_keys(['val_loss', 'loss'])\n"
          ],
          "name": "stdout"
        }
      ]
    },
    {
      "cell_type": "code",
      "metadata": {
        "id": "4yA2yAwnG03h",
        "colab_type": "code",
        "colab": {
          "base_uri": "https://localhost:8080/",
          "height": 265
        },
        "outputId": "902c169e-65b7-4be1-b4ea-8a21fa4335b1"
      },
      "source": [
        "plt.plot(history.history[\"loss\"],label = \"Train Loss\")\n",
        "plt.plot(history.history[\"val_loss\"],label = \"Validation Loss\")\n",
        "plt.legend()\n",
        "plt.show()"
      ],
      "execution_count": null,
      "outputs": [
        {
          "output_type": "display_data",
          "data": {
            "image/png": "[encoded data removed]",
            "text/plain": [
              "<Figure size 432x288 with 1 Axes>"
            ]
          },
          "metadata": {
            "tags": [],
            "needs_background": "light"
          }
        }
      ]
    },
    {
      "cell_type": "code",
      "metadata": {
        "id": "mcq4R80QHjmz",
        "colab_type": "code",
        "colab": {}
      },
      "source": [
        "#save history. Günler süren algoritmadan sonra elde ettiğimiz verileri kaydetmeyi unutmayalım.\n",
        "with open(\"autoencoders_hist.json\",\"w\") as f:\n",
        "  json.dump(history.history,f)"
      ],
      "execution_count": null,
      "outputs": []
    },
    {
      "cell_type": "code",
      "metadata": {
        "id": "AxYHzJ-9IDIz",
        "colab_type": "code",
        "colab": {}
      },
      "source": [
        "#load history\n",
        "with codecs.open(\"autoencoders_hist.json\",\"r\",encoding=\"utf8\") as f:\n",
        "  n = json.loads(f.read())"
      ],
      "execution_count": null,
      "outputs": []
    },
    {
      "cell_type": "code",
      "metadata": {
        "id": "2lnubuJ8Ineo",
        "colab_type": "code",
        "colab": {
          "base_uri": "https://localhost:8080/",
          "height": 282
        },
        "outputId": "8553c00c-deb9-4ebe-8c49-6e81ac7b5bc4"
      },
      "source": [
        "plt.plot(n[\"loss\"],label = \"Train Loss\")\n",
        "plt.plot(n[\"val_loss\"],label = \"Validation Loss\")"
      ],
      "execution_count": null,
      "outputs": [
        {
          "output_type": "execute_result",
          "data": {
            "text/plain": [
              "[<matplotlib.lines.Line2D at 0x7fde750e5198>]"
            ]
          },
          "metadata": {
            "tags": []
          },
          "execution_count": 46
        },
        {
          "output_type": "display_data",
          "data": {
            "image/png": "[encoded data removed]",
            "text/plain": [
              "<Figure size 432x288 with 1 Axes>"
            ]
          },
          "metadata": {
            "tags": [],
            "needs_background": "light"
          }
        }
      ]
    },
    {
      "cell_type": "code",
      "metadata": {
        "id": "1RWl2NkBIwsC",
        "colab_type": "code",
        "colab": {}
      },
      "source": [
        "#Encoder Modeline soktuğumuz zaman nasıl bir sonuç elde ettik\n",
        "encoder = Model(input_img,encoded)\n",
        "encoded_img = encoder.predict(x_test)"
      ],
      "execution_count": null,
      "outputs": []
    },
    {
      "cell_type": "code",
      "metadata": {
        "id": "qV7Oaeo7nXZP",
        "colab_type": "code",
        "colab": {
          "base_uri": "https://localhost:8080/",
          "height": 248
        },
        "outputId": "bc4e0d22-6831-422f-8e3c-0c1154faadc6"
      },
      "source": [
        "plt.imshow(x_test[1500].reshape(28,28))\n",
        "plt.axis(\"off\")\n",
        "plt.show()"
      ],
      "execution_count": null,
      "outputs": [
        {
          "output_type": "display_data",
          "data": {
            "image/png": "[encoded data removed]",
            "text/plain": [
              "<Figure size 432x288 with 1 Axes>"
            ]
          },
          "metadata": {
            "tags": [],
            "needs_background": "light"
          }
        }
      ]
    },
    {
      "cell_type": "code",
      "metadata": {
        "id": "WPfmF2gAnlMV",
        "colab_type": "code",
        "colab": {
          "base_uri": "https://localhost:8080/",
          "height": 248
        },
        "outputId": "ee12a7f3-2490-4167-8c35-68aba7c10186"
      },
      "source": [
        "plt.imshow(encoded_img[1500].reshape(4,4))\n",
        "plt.axis(\"off\")\n",
        "plt.show()"
      ],
      "execution_count": null,
      "outputs": [
        {
          "output_type": "display_data",
          "data": {
            "image/png": "[encoded data removed]",
            "text/plain": [
              "<Figure size 432x288 with 1 Axes>"
            ]
          },
          "metadata": {
            "tags": [],
            "needs_background": "light"
          }
        }
      ]
    },
    {
      "cell_type": "code",
      "metadata": {
        "id": "8YiL4aZXn85D",
        "colab_type": "code",
        "colab": {}
      },
      "source": [
        "decodes_imgs = autoencoder.predict(x_test)"
      ],
      "execution_count": null,
      "outputs": []
    },
    {
      "cell_type": "code",
      "metadata": {
        "id": "17LrOQ0doacm",
        "colab_type": "code",
        "colab": {
          "base_uri": "https://localhost:8080/",
          "height": 244
        },
        "outputId": "eab0f870-d6a1-4bc8-838c-5be90b61eb29"
      },
      "source": [
        "n = 10  # how many digits we will display\n",
        "plt.figure(figsize=(20, 4))\n",
        "for i in range(n):\n",
        "    # display original\n",
        "    ax = plt.subplot(2, n, i + 1)\n",
        "    plt.imshow(x_test[i].reshape(28, 28))\n",
        "    plt.axis(\"off\")\n",
        "\n",
        "    # display reconstruction\n",
        "    ax = plt.subplot(2, n, i + 1 + n)\n",
        "    plt.imshow(decodes_imgs[i].reshape(28, 28))\n",
        "    plt.axis(\"off\")\n",
        "plt.show()"
      ],
      "execution_count": null,
      "outputs": [
        {
          "output_type": "display_data",
          "data": {
            "image/png": "[encoded data removed]",
            "text/plain": [
              "<Figure size 1440x288 with 20 Axes>"
            ]
          },
          "metadata": {
            "tags": [],
            "needs_background": "light"
          }
        }
      ]
    },
    {
      "cell_type": "code",
      "metadata": {
        "id": "2DwBJ-stokDC",
        "colab_type": "code",
        "colab": {}
      },
      "source": [
        ""
      ],
      "execution_count": null,
      "outputs": []
    }
  ]
}