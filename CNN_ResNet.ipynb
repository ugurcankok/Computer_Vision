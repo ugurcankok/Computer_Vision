{
  "nbformat": 4,
  "nbformat_minor": 0,
  "metadata": {
    "colab": {
      "name": "CNN - ResNet.ipynb",
      "provenance": [],
      "collapsed_sections": []
    },
    "kernelspec": {
      "name": "python3",
      "display_name": "Python 3"
    },
    "accelerator": "TPU"
  },
  "cells": [
    {
      "cell_type": "code",
      "metadata": {
        "id": "39ZU3DGC-mS7",
        "colab_type": "code",
        "colab": {}
      },
      "source": [
        "#161805041\n",
        "#UĞUR CAN KÖK\n",
        "#Library : Pytorch\n",
        "#Description of Project: In this project I will work on IR pictures. There are people walking and not walking on IR pictures. \n",
        "                         #I will classify them and get the accuracy value in CNN or ResNet, which algorithm works better, \n",
        "                         #which solution has been found for vanishing gradient problem, and I will focus on them."
      ],
      "execution_count": null,
      "outputs": []
    },
    {
      "cell_type": "markdown",
      "metadata": {
        "id": "BCpuyYpbAJhh",
        "colab_type": "text"
      },
      "source": [
        "I wanted to work on a topic related to my thesis in my project. In my thesis, I worked on the pre-trained model. In my homework, I worked on RNN. Now I am working on CNN and RNN. The basic logic in artificial neural networks is as follows: We have input values and hidden layers in between. Finally, we have an output layer. This general logic is the same in almost all deep learning models, but there are some changes from model to model. Let's look at the changes experienced on the CNN model. There is no change in input layer, hidden layer and output layer, but since we don't have a csv file, we will need to edit the input layer because we have image files in CNN. CNN passes the data through certain stages before receiving the input layer and outputs it to the input layer. If we examine these stages a little, it consists of 4 stages. Convolution, Pooling, Flattenning, Fully Connected.\n",
        "\n",
        "**Convolutional**\n",
        "\n",
        "When programming a CNN, the input is a tensor with shape (number of images) x (image width) x (image height) x (image depth). Then after passing through a convolutional layer, the image becomes abstracted to a feature map, with shape (number of images) x (feature map width) x (feature map height) x (feature map channels). A convolutional layer within a neural network should have the following attributes:\n",
        "\n",
        "Convolutional kernels defined by a width and height (hyper-parameters).\n",
        "The number of input channels and output channels (hyper-parameter).\n",
        "The depth of the Convolution filter (the input channels) must be equal to the number channels (depth) of the input feature map.\n",
        "\n",
        "**Pooling**\n",
        "\n",
        "Convolutional networks may include local or global pooling layers to streamline the underlying computation. Pooling layers reduce the dimensions of the data by combining the outputs of neuron clusters at one layer into a single neuron in the next layer.\n",
        "\n",
        "**Flattening**\n",
        "\n",
        "After finishing the previous two steps, we're supposed to have a pooled feature map by now. As the name of this step implies, we are literally going to flatten our pooled feature map into a column like in the image below. The reason we do this is that we're going to need to insert this data into an artificial neural network later on.\n",
        "\n",
        "**Fully connected**\n",
        "\n",
        "Fully connected layers connect every neuron in one layer to every neuron in another layer. It is in principle the same as the traditional multi-layer perceptron neural network (MLP). The flattened matrix goes through a fully connected layer to classify the images.\n",
        "\n",
        "CNN is ready to be trained after going through these stages. I will show you step by step how we do all these steps in the code. If the CNN algorithm works perfectly, where did ResNet come from? As with RNN, we saw a vanishing gradient problem. We can describe the vanishing gradient problem as not learning. So how does this happen? The deep learning learns deeply on the name, but as the layers increase, the feedback value in the backpropagation shrinks almost negligibly, which does not cause a significant change in the weight assigned first, so it remains very close to the previous value and the system cannot learn. In short, a 20-layer network structure can yield much better results than 50 layers. ResNet has been used to prevent such problems. So how ResNet solves vanishing gradient problem. ResNet is establishing a connection called shortcut. Normally CNN is a little different from ResNet when it comes to conv, batch norm, relu and output order. The input from ResNet is used twice.The incoming input passes through conv, batch norm as in CNN at first, then the processed part is collected as the input is not processed and then the output returns through relu. In this way, even if there are many layers, the advantage of collecting the input in its original form protects us from the vanishing gradient problem.  In my project, I will make classification using these two algorithms and compare the results. I used google colab while developing my project.\n",
        "\n"
      ]
    },
    {
      "cell_type": "code",
      "metadata": {
        "id": "jeHdLkBt_hw0",
        "colab_type": "code",
        "colab": {
          "base_uri": "https://localhost:8080/",
          "height": 34
        },
        "outputId": "824a74ce-5378-4550-f718-92abb00b7995"
      },
      "source": [
        "# Load the Drive helper and mount\n",
        "from google.colab import drive\n",
        "\n",
        "# This will prompt for authorization.\n",
        "drive.mount('/content/drive')"
      ],
      "execution_count": null,
      "outputs": [
        {
          "output_type": "stream",
          "text": [
            "Drive already mounted at /content/drive; to attempt to forcibly remount, call drive.mount(\"/content/drive\", force_remount=True).\n"
          ],
          "name": "stdout"
        }
      ]
    },
    {
      "cell_type": "code",
      "metadata": {
        "id": "LwqXmj2GOsS-",
        "colab_type": "code",
        "colab": {
          "base_uri": "https://localhost:8080/",
          "height": 34
        },
        "outputId": "a97598b4-bfb6-4374-fb94-837730c6b7c7"
      },
      "source": [
        "% cd /content/drive/My Drive"
      ],
      "execution_count": null,
      "outputs": [
        {
          "output_type": "stream",
          "text": [
            "/content/drive/My Drive\n"
          ],
          "name": "stdout"
        }
      ]
    },
    {
      "cell_type": "code",
      "metadata": {
        "id": "UPGQ3_lJOuVy",
        "colab_type": "code",
        "colab": {
          "base_uri": "https://localhost:8080/",
          "height": 34
        },
        "outputId": "30c6a62a-1992-431b-edac-a160df5e3caa"
      },
      "source": [
        "import os\n",
        "print(os.stat('/content/drive/My Drive/LSIFIR.zip').st_size/1000000000) # GigaBytes (approx)"
      ],
      "execution_count": null,
      "outputs": [
        {
          "output_type": "stream",
          "text": [
            "0.510897852\n"
          ],
          "name": "stdout"
        }
      ]
    },
    {
      "cell_type": "code",
      "metadata": {
        "id": "_1p_sZk2OwX6",
        "colab_type": "code",
        "colab": {
          "base_uri": "https://localhost:8080/",
          "height": 34
        },
        "outputId": "223e722f-1f74-4ee8-f56a-b8544105eaca"
      },
      "source": [
        "% cd /content/"
      ],
      "execution_count": null,
      "outputs": [
        {
          "output_type": "stream",
          "text": [
            "/content\n"
          ],
          "name": "stdout"
        }
      ]
    },
    {
      "cell_type": "code",
      "metadata": {
        "id": "d3sDaWbGOyND",
        "colab_type": "code",
        "colab": {}
      },
      "source": [
        "# unzip to train_imgs folder\n",
        "Infrared = '/content/drive/My Drive/LSIFIR.zip'\n",
        "import zipfile\n",
        "zip_ref = zipfile.ZipFile(Infrared, 'r')\n",
        "zip_ref.extractall('ImageDataset')\n",
        "zip_ref.close()"
      ],
      "execution_count": null,
      "outputs": []
    },
    {
      "cell_type": "code",
      "metadata": {
        "id": "e2cc3XYBPpvS",
        "colab_type": "code",
        "colab": {
          "base_uri": "https://localhost:8080/",
          "height": 34
        },
        "outputId": "c614a781-8754-4caa-d341-d1e49386dfea"
      },
      "source": [
        "! ls"
      ],
      "execution_count": null,
      "outputs": [
        {
          "output_type": "stream",
          "text": [
            "drive  ImageDataset  sample_data\n"
          ],
          "name": "stdout"
        }
      ]
    },
    {
      "cell_type": "code",
      "metadata": {
        "id": "YaVYiPp1Pslq",
        "colab_type": "code",
        "colab": {
          "base_uri": "https://localhost:8080/",
          "height": 34
        },
        "outputId": "93ea6d71-2711-4160-eadc-22a19d10e85b"
      },
      "source": [
        "% cd /content/ImageDataset/LSIFIR"
      ],
      "execution_count": null,
      "outputs": [
        {
          "output_type": "stream",
          "text": [
            "/content/ImageDataset/LSIFIR\n"
          ],
          "name": "stdout"
        }
      ]
    },
    {
      "cell_type": "code",
      "metadata": {
        "id": "RAL3kFOUPy_I",
        "colab_type": "code",
        "colab": {
          "base_uri": "https://localhost:8080/",
          "height": 34
        },
        "outputId": "f2ad4982-6eb2-440e-d8dd-39a89e2364c7"
      },
      "source": [
        "! ls"
      ],
      "execution_count": null,
      "outputs": [
        {
          "output_type": "stream",
          "text": [
            "Classification\tDetection\n"
          ],
          "name": "stdout"
        }
      ]
    },
    {
      "cell_type": "code",
      "metadata": {
        "id": "hI_NzHXWP0bg",
        "colab_type": "code",
        "colab": {}
      },
      "source": [
        "#Data Preprocessing\n",
        "#Import Library\n",
        "import torch\n",
        "import torch.nn as nn\n",
        "import torch.nn.functional as F\n",
        "from PIL import Image #to read image\n",
        "import matplotlib.pyplot as plt\n",
        "import numpy as np\n",
        "import os\n",
        "import time"
      ],
      "execution_count": null,
      "outputs": []
    },
    {
      "cell_type": "code",
      "metadata": {
        "id": "Qw0U5nyTQBlc",
        "colab_type": "code",
        "colab": {
          "base_uri": "https://localhost:8080/",
          "height": 34
        },
        "outputId": "fd28d248-c5f5-41fa-bce4-d13d506427f1"
      },
      "source": [
        "#device confic EXTRA DEFAULT CPU but GPU\n",
        "device = torch.device(\"cuda:0\" if torch.cuda.is_available() else \"cpu\")\n",
        "print(\"Device\", device)"
      ],
      "execution_count": null,
      "outputs": [
        {
          "output_type": "stream",
          "text": [
            "Device cpu\n"
          ],
          "name": "stdout"
        }
      ]
    },
    {
      "cell_type": "code",
      "metadata": {
        "id": "Sdy6CcrLSCvJ",
        "colab_type": "code",
        "colab": {}
      },
      "source": [
        "# I wrote a function to read the folder with our pictures.\n",
        "def read_images(path, num_img):#I take the path to read the file, and we get num_img to know how many pictures there are.\n",
        "  array = np.zeros([num_img, 64*32]) #I upload our data to this place first of all let's open for loop\n",
        "  i = 0\n",
        "  for img in os.listdir(path):\n",
        "    img_path = path + \"//\" + img\n",
        "    img = Image.open(img_path, mode = 'r')\n",
        "    data = np.asarray(img, dtype=\"uint8\")\n",
        "    data = data.flatten() #I do the flattened picture to store it in the array.\n",
        "    array[i,:] = data\n",
        "    i +=1\n",
        "  return array"
      ],
      "execution_count": null,
      "outputs": []
    },
    {
      "cell_type": "code",
      "metadata": {
        "id": "_bP8YvKdSoRB",
        "colab_type": "code",
        "colab": {}
      },
      "source": [
        "#read train set negative image\n",
        "train_negative_path = r\"/content/ImageDataset/LSIFIR/Classification/Train/neg\"\n",
        "num_train_negative_img = 43390 #I know how many images in folder from the dataset"
      ],
      "execution_count": null,
      "outputs": []
    },
    {
      "cell_type": "code",
      "metadata": {
        "id": "biLEf-62TWY3",
        "colab_type": "code",
        "colab": {}
      },
      "source": [
        "train_negative_array = read_images(train_negative_path,num_train_negative_img) #There is non-pedestrian data in the train dataset."
      ],
      "execution_count": null,
      "outputs": []
    },
    {
      "cell_type": "code",
      "metadata": {
        "id": "ALb2KeE8TcTA",
        "colab_type": "code",
        "colab": {
          "base_uri": "https://localhost:8080/",
          "height": 34
        },
        "outputId": "6c10bc57-c804-46ac-8607-46f82ff32c8b"
      },
      "source": [
        "x_train_negative_tensor = torch.from_numpy(train_negative_array[:42000,:]) #The pictures I received as input did not identify the labels\n",
        "print(x_train_negative_tensor.size())"
      ],
      "execution_count": null,
      "outputs": [
        {
          "output_type": "stream",
          "text": [
            "torch.Size([42000, 2048])\n"
          ],
          "name": "stdout"
        }
      ]
    },
    {
      "cell_type": "code",
      "metadata": {
        "id": "qGNNf4RWTpD8",
        "colab_type": "code",
        "colab": {
          "base_uri": "https://localhost:8080/",
          "height": 34
        },
        "outputId": "e304d732-7f18-48bb-ba3f-168b6202f161"
      },
      "source": [
        "y_train_negative_tensor = torch.zeros(42000, dtype = torch.long) #I identified the labels\n",
        "print(y_train_negative_tensor.size())"
      ],
      "execution_count": null,
      "outputs": [
        {
          "output_type": "stream",
          "text": [
            "torch.Size([42000])\n"
          ],
          "name": "stdout"
        }
      ]
    },
    {
      "cell_type": "code",
      "metadata": {
        "id": "BNNBkm6ETtfK",
        "colab_type": "code",
        "colab": {}
      },
      "source": [
        "#read train set positive image\n",
        "train_positive_path = r\"/content/ImageDataset/LSIFIR/Classification/Train/pos\"\n",
        "num_train_positive_img = 10208 #I know how many images in folder from the dataset"
      ],
      "execution_count": null,
      "outputs": []
    },
    {
      "cell_type": "code",
      "metadata": {
        "id": "xKEklzqoTyHl",
        "colab_type": "code",
        "colab": {}
      },
      "source": [
        "train_positive_array = read_images(train_positive_path,num_train_positive_img)"
      ],
      "execution_count": null,
      "outputs": []
    },
    {
      "cell_type": "code",
      "metadata": {
        "id": "YvZgkck-T0Je",
        "colab_type": "code",
        "colab": {
          "base_uri": "https://localhost:8080/",
          "height": 34
        },
        "outputId": "7eeead76-5364-47dd-9866-6462f96b784d"
      },
      "source": [
        "x_train_positive_tensor = torch.from_numpy(train_positive_array[:10000,:]) #The pictures I received as input did not identify the labels\n",
        "print(x_train_positive_tensor.size())"
      ],
      "execution_count": null,
      "outputs": [
        {
          "output_type": "stream",
          "text": [
            "torch.Size([10000, 2048])\n"
          ],
          "name": "stdout"
        }
      ]
    },
    {
      "cell_type": "code",
      "metadata": {
        "id": "B9J11Q3qT5ST",
        "colab_type": "code",
        "colab": {
          "base_uri": "https://localhost:8080/",
          "height": 34
        },
        "outputId": "76b10cf3-ab64-4a9a-fc93-4e35c90b56e3"
      },
      "source": [
        "y_train_positive_tensor = torch.ones(10000, dtype = torch.long) #I identified the labels\n",
        "print(y_train_positive_tensor.size())"
      ],
      "execution_count": null,
      "outputs": [
        {
          "output_type": "stream",
          "text": [
            "torch.Size([10000])\n"
          ],
          "name": "stdout"
        }
      ]
    },
    {
      "cell_type": "code",
      "metadata": {
        "id": "GUbTTsoZT_qr",
        "colab_type": "code",
        "colab": {}
      },
      "source": [
        "#concat train data\n",
        "x_train = torch.cat((x_train_negative_tensor,x_train_positive_tensor),0) #merging down from above, I say combine lines.\n",
        "y_train = torch.cat((y_train_negative_tensor, y_train_positive_tensor),0)"
      ],
      "execution_count": null,
      "outputs": []
    },
    {
      "cell_type": "code",
      "metadata": {
        "id": "sXGQLNjlUGHu",
        "colab_type": "code",
        "colab": {
          "base_uri": "https://localhost:8080/",
          "height": 51
        },
        "outputId": "ceb6db03-b615-4ab7-adec-d040d47f8cf6"
      },
      "source": [
        "print(x_train.size())\n",
        "print(y_train.size())"
      ],
      "execution_count": null,
      "outputs": [
        {
          "output_type": "stream",
          "text": [
            "torch.Size([52000, 2048])\n",
            "torch.Size([52000])\n"
          ],
          "name": "stdout"
        }
      ]
    },
    {
      "cell_type": "code",
      "metadata": {
        "id": "m0Rr-PWjUIVG",
        "colab_type": "code",
        "colab": {}
      },
      "source": [
        "#read test set negative image\n",
        "test_negative_path = r\"/content/ImageDataset/LSIFIR/Classification/Test/neg\"\n",
        "num_test_negative_img = 22050 #I know how many images in folder from the dataset"
      ],
      "execution_count": null,
      "outputs": []
    },
    {
      "cell_type": "code",
      "metadata": {
        "id": "JvfNpTCzUN20",
        "colab_type": "code",
        "colab": {}
      },
      "source": [
        "test_negative_array = read_images(test_negative_path,num_test_negative_img)"
      ],
      "execution_count": null,
      "outputs": []
    },
    {
      "cell_type": "code",
      "metadata": {
        "id": "8xF5DJpiUQB4",
        "colab_type": "code",
        "colab": {
          "base_uri": "https://localhost:8080/",
          "height": 34
        },
        "outputId": "56cf9276-5290-4fe7-866d-5223cc0659a2"
      },
      "source": [
        "x_test_negative_tensor = torch.from_numpy(test_negative_array[:18056,:]) #The pictures I received as input did not identify the labels\n",
        "print(x_test_negative_tensor.size())"
      ],
      "execution_count": null,
      "outputs": [
        {
          "output_type": "stream",
          "text": [
            "torch.Size([18056, 2048])\n"
          ],
          "name": "stdout"
        }
      ]
    },
    {
      "cell_type": "code",
      "metadata": {
        "id": "m2OjvADZUX5D",
        "colab_type": "code",
        "colab": {
          "base_uri": "https://localhost:8080/",
          "height": 34
        },
        "outputId": "f1c8f407-737d-445e-8e30-7f6d63515fff"
      },
      "source": [
        "y_test_negative_tensor = torch.zeros(18056, dtype = torch.long) #I identified the labels\n",
        "print(y_test_negative_tensor.size())"
      ],
      "execution_count": null,
      "outputs": [
        {
          "output_type": "stream",
          "text": [
            "torch.Size([18056])\n"
          ],
          "name": "stdout"
        }
      ]
    },
    {
      "cell_type": "code",
      "metadata": {
        "id": "w-F7Ve1_Ub_A",
        "colab_type": "code",
        "colab": {}
      },
      "source": [
        "#read test set positive image\n",
        "test_positive_path = r\"/content/ImageDataset/LSIFIR/Classification/Test/pos\"\n",
        "num_test_positive_img = 5944 #I know how many images in folder from the dataset"
      ],
      "execution_count": null,
      "outputs": []
    },
    {
      "cell_type": "code",
      "metadata": {
        "id": "dekmsvzZUhke",
        "colab_type": "code",
        "colab": {}
      },
      "source": [
        "test_positive_array = read_images(test_positive_path,num_test_positive_img)"
      ],
      "execution_count": null,
      "outputs": []
    },
    {
      "cell_type": "code",
      "metadata": {
        "id": "4LaWxxV3UklD",
        "colab_type": "code",
        "colab": {
          "base_uri": "https://localhost:8080/",
          "height": 34
        },
        "outputId": "3f3e378e-c7e5-438e-c70c-06dbe201714a"
      },
      "source": [
        "x_test_positive_tensor = torch.from_numpy(test_positive_array) #The pictures I received as input did not identify the labels\n",
        "print(x_test_positive_tensor.size())"
      ],
      "execution_count": null,
      "outputs": [
        {
          "output_type": "stream",
          "text": [
            "torch.Size([5944, 2048])\n"
          ],
          "name": "stdout"
        }
      ]
    },
    {
      "cell_type": "code",
      "metadata": {
        "id": "1jks0RFPUsBp",
        "colab_type": "code",
        "colab": {
          "base_uri": "https://localhost:8080/",
          "height": 34
        },
        "outputId": "fb66140b-5fb2-47ea-a74d-504902849f35"
      },
      "source": [
        "y_test_positive_tensor = torch.zeros(num_test_positive_img, dtype = torch.long) #I identified the labels\n",
        "print(y_test_positive_tensor.size())"
      ],
      "execution_count": null,
      "outputs": [
        {
          "output_type": "stream",
          "text": [
            "torch.Size([5944])\n"
          ],
          "name": "stdout"
        }
      ]
    },
    {
      "cell_type": "code",
      "metadata": {
        "id": "vsymGpTBUu_Q",
        "colab_type": "code",
        "colab": {}
      },
      "source": [
        "#concat test data\n",
        "x_test = torch.cat((x_test_negative_tensor,x_test_positive_tensor),0) \n",
        "y_test = torch.cat((y_test_negative_tensor, y_test_positive_tensor),0)"
      ],
      "execution_count": null,
      "outputs": []
    },
    {
      "cell_type": "code",
      "metadata": {
        "id": "2KvHv1FPU1Fj",
        "colab_type": "code",
        "colab": {
          "base_uri": "https://localhost:8080/",
          "height": 51
        },
        "outputId": "502f3860-e29b-430b-e616-35ba53545f4b"
      },
      "source": [
        "print(x_test.size())\n",
        "print(y_test.size())"
      ],
      "execution_count": null,
      "outputs": [
        {
          "output_type": "stream",
          "text": [
            "torch.Size([24000, 2048])\n",
            "torch.Size([24000])\n"
          ],
          "name": "stdout"
        }
      ]
    },
    {
      "cell_type": "code",
      "metadata": {
        "id": "FxqcgZoDU2xc",
        "colab_type": "code",
        "colab": {
          "base_uri": "https://localhost:8080/",
          "height": 285
        },
        "outputId": "cf40247c-ab87-4b54-c3d6-79c15683ea84"
      },
      "source": [
        "#visualize the dataset\n",
        "plt.imshow(x_train[45000,:].reshape(64,32),cmap=\"gray\")"
      ],
      "execution_count": null,
      "outputs": [
        {
          "output_type": "execute_result",
          "data": {
            "text/plain": [
              "<matplotlib.image.AxesImage at 0x7ff7755bc898>"
            ]
          },
          "metadata": {
            "tags": []
          },
          "execution_count": 48
        },
        {
          "output_type": "display_data",
          "data": {
            "image/png": "[encoded data removed]",
            "text/plain": [
              "<Figure size 432x288 with 1 Axes>"
            ]
          },
          "metadata": {
            "tags": [],
            "needs_background": "light"
          }
        }
      ]
    },
    {
      "cell_type": "code",
      "metadata": {
        "id": "V8a0qBUyU4H7",
        "colab_type": "code",
        "colab": {}
      },
      "source": [
        "#I started develop the CNN model\n",
        "#hyperparameters : A hyper-parameter is a constant parameter whose value is set before the learning process begins. \n",
        "num_epochs = 50\n",
        "num_classes = 2\n",
        "batch_size = 64\n",
        "learning_rate = 0.00001 #The learning rate defines the size of the corrective steps"
      ],
      "execution_count": null,
      "outputs": []
    },
    {
      "cell_type": "code",
      "metadata": {
        "id": "Vt3m1KIjVngp",
        "colab_type": "code",
        "colab": {}
      },
      "source": [
        "class Net(nn.Module):\n",
        "  def __init__(self):\n",
        "    super(Net,self).__init__()\n",
        "\n",
        "    self.conv1 = nn.Conv2d(1,10,5) #1 input, 10 output channel, 5 kernel size\n",
        "    self.pool = nn.MaxPool2d(2,2)\n",
        "    self.conv2 = nn.Conv2d(10,16,5)\n",
        "    self.neurons = self.linear_input_neurons()\n",
        "\n",
        "    self.fc1 = nn.Linear(self.linear_input_neurons(),520)\n",
        "    self.fc2 = nn.Linear(520,130)\n",
        "    self.fc3 = nn.Linear(130,num_classes)\n",
        "\n",
        "  def forward(self,x):\n",
        "    x = self.pool(F.relu((self.conv1(x))))\n",
        "    x = self.pool(F.relu(self.conv2(x)))\n",
        "    x = x.view(x.size(0),-1) #flatten in pytorch\n",
        "    x = F.relu(self.fc1(x))\n",
        "    x = F.relu(self.fc2(x))\n",
        "    x = self.fc3(x)\n",
        "    return x\n",
        "\n",
        "\n",
        "  def size_after_relu(self, x): #I have to do that because I got an error which is called mismatch.\n",
        "    x = self.pool(F.relu(self.conv1(x.float())))\n",
        "    x = self.pool(F.relu(self.conv2(x.float())))\n",
        "        \n",
        "    return x.size()\n",
        "    \n",
        "  def linear_input_neurons(self):\n",
        "    size = self.size_after_relu(torch.rand(1, 1, 64, 32))\n",
        "    m = 1\n",
        "    for i in size:\n",
        "      m *= i\n",
        "\n",
        "    return int(m)"
      ],
      "execution_count": null,
      "outputs": []
    },
    {
      "cell_type": "code",
      "metadata": {
        "id": "ZTNjB811YJA1",
        "colab_type": "code",
        "colab": {}
      },
      "source": [
        "#Create tensor data for train data\n",
        "train = torch.utils.data.TensorDataset(x_train,y_train)\n",
        "trainloader = torch.utils.data.DataLoader(train, batch_size = batch_size, shuffle = True)"
      ],
      "execution_count": null,
      "outputs": []
    },
    {
      "cell_type": "code",
      "metadata": {
        "id": "D96qa2yDYKyj",
        "colab_type": "code",
        "colab": {}
      },
      "source": [
        "#Create tensor data for test data\n",
        "test = torch.utils.data.TensorDataset(x_test,y_test)\n",
        "testloader = torch.utils.data.DataLoader(test, batch_size = batch_size, shuffle = False)"
      ],
      "execution_count": null,
      "outputs": []
    },
    {
      "cell_type": "code",
      "metadata": {
        "id": "TOz8HajUYTie",
        "colab_type": "code",
        "colab": {}
      },
      "source": [
        "model = Net().to(device) #for using GPU"
      ],
      "execution_count": null,
      "outputs": []
    },
    {
      "cell_type": "code",
      "metadata": {
        "id": "OUt83ln_YYoH",
        "colab_type": "code",
        "colab": {}
      },
      "source": [
        "#Loss and optimizer\n",
        "criterion = nn.CrossEntropyLoss()"
      ],
      "execution_count": null,
      "outputs": []
    },
    {
      "cell_type": "code",
      "metadata": {
        "id": "lP7dL9EXYaUt",
        "colab_type": "code",
        "colab": {
          "base_uri": "https://localhost:8080/",
          "height": 153
        },
        "outputId": "c6af497d-1772-4d6e-979c-cbe769f39b41"
      },
      "source": [
        "import torch.optim as optim\n",
        "optimizer = optim.SGD(model.parameters(), lr = learning_rate, momentum = 0.8)\n",
        "optimizer"
      ],
      "execution_count": null,
      "outputs": [
        {
          "output_type": "execute_result",
          "data": {
            "text/plain": [
              "SGD (\n",
              "Parameter Group 0\n",
              "    dampening: 0\n",
              "    lr: 1e-05\n",
              "    momentum: 0.8\n",
              "    nesterov: False\n",
              "    weight_decay: 0\n",
              ")"
            ]
          },
          "metadata": {
            "tags": []
          },
          "execution_count": 55
        }
      ]
    },
    {
      "cell_type": "code",
      "metadata": {
        "id": "bmbWn3SnYfFY",
        "colab_type": "code",
        "colab": {}
      },
      "source": [
        "#Train a network\n",
        "#I defined that because when I train the my dataset I will add the accuracy and loss value to the array nad then I will use it for visualizing.\n",
        "start = time.time()\n",
        "train_acc = []\n",
        "test_acc = []\n",
        "loss_list = []\n",
        "iterations = []\n",
        "use_gpu = True"
      ],
      "execution_count": null,
      "outputs": []
    },
    {
      "cell_type": "code",
      "metadata": {
        "id": "6ptHq2JTYk6Y",
        "colab_type": "code",
        "colab": {
          "base_uri": "https://localhost:8080/",
          "height": 901
        },
        "outputId": "6f5e08c0-112b-4508-a96d-609ec02ec725"
      },
      "source": [
        "for epoch in range(num_epochs+1):\n",
        "    for i, data in enumerate(trainloader):\n",
        "        \n",
        "        images, labels = data\n",
        "        images = images.view(images.size(0), 1, 64, 32) #reshaping\n",
        "        images = images.float()\n",
        "        \n",
        "        # usign gpu\n",
        "        images, labels = images.to(device), labels.to(device)\n",
        "        \n",
        "        #forward\n",
        "        outputs = model(images)\n",
        "\n",
        "        #loss\n",
        "        loss = criterion(outputs, labels)\n",
        "\n",
        "        #zero gradient\n",
        "        optimizer.zero_grad()\n",
        "\n",
        "        #backprogation\n",
        "        loss.backward()\n",
        "\n",
        "        #update weights\n",
        "        optimizer.step()\n",
        "        \n",
        "        \n",
        "    # test set\n",
        "    correct = 0\n",
        "    total = 0\n",
        "    with torch.no_grad(): #closing the backprogation\n",
        "        for data in testloader:\n",
        "            images, labels = data\n",
        "            images = images.view(images.size(0), 1, 64, 32)\n",
        "            images = images.float()\n",
        "        \n",
        "            images, labels_test = images.to(device), labels.to(device)\n",
        "            \n",
        "            outputs = model(images)\n",
        "            _, predicted = torch.max(outputs, 1)\n",
        "            total += labels_test.size(0)\n",
        "            correct += (predicted == labels_test).sum().item()\n",
        "    \n",
        "    accuracy1 = correct / total\n",
        "\n",
        "    \n",
        "    # train set \n",
        "    correct = 0\n",
        "    total = 0\n",
        "    with torch.no_grad(): #closing the backprogation\n",
        "        for data in trainloader:\n",
        "            images, labels = data\n",
        "            images = images.view(images.size(0), 1, 64, 32)\n",
        "            images = images.float()\n",
        "        \n",
        "            images, labels_train = images.to(device), labels.to(device)\n",
        "            \n",
        "            outputs = model(images)\n",
        "            _, predicted = torch.max(outputs, 1)\n",
        "            total += labels_train.size(0)\n",
        "            correct += (predicted == labels_train).sum().item()\n",
        "    \n",
        "    accuracy2 = correct / total\n",
        "    \n",
        "    #add information to our array\n",
        "    loss_list.append(loss.item())\n",
        "    train_acc.append(accuracy2)\n",
        "    test_acc.append(accuracy1)\n",
        "    iterations.append(epoch)\n",
        "        \n",
        "    print('epoch: {}   -->  train accuracy = {:.5f},\\ttest accuracy = {:.5f},\\tloss = {:.5f}'.format(epoch, accuracy2, accuracy1, loss.item()))\n",
        "    \n",
        "\n",
        "print('Finished.')\n"
      ],
      "execution_count": null,
      "outputs": [
        {
          "output_type": "stream",
          "text": [
            "epoch: 0   -->  train accuracy = 0.90517,\ttest accuracy = 0.89654,\tloss = 0.21261\n",
            "epoch: 1   -->  train accuracy = 0.92269,\ttest accuracy = 0.85308,\tloss = 0.12625\n",
            "epoch: 2   -->  train accuracy = 0.93088,\ttest accuracy = 0.88971,\tloss = 0.30997\n",
            "epoch: 3   -->  train accuracy = 0.93744,\ttest accuracy = 0.87596,\tloss = 0.16877\n",
            "epoch: 4   -->  train accuracy = 0.94063,\ttest accuracy = 0.83871,\tloss = 0.10300\n",
            "epoch: 5   -->  train accuracy = 0.94571,\ttest accuracy = 0.86829,\tloss = 0.19677\n",
            "epoch: 6   -->  train accuracy = 0.94906,\ttest accuracy = 0.86175,\tloss = 0.20845\n",
            "epoch: 7   -->  train accuracy = 0.95123,\ttest accuracy = 0.85533,\tloss = 0.10880\n",
            "epoch: 8   -->  train accuracy = 0.95356,\ttest accuracy = 0.86433,\tloss = 0.27417\n",
            "epoch: 9   -->  train accuracy = 0.95296,\ttest accuracy = 0.88425,\tloss = 0.21797\n",
            "epoch: 10   -->  train accuracy = 0.95735,\ttest accuracy = 0.85646,\tloss = 0.06548\n",
            "epoch: 11   -->  train accuracy = 0.95527,\ttest accuracy = 0.88687,\tloss = 0.02466\n",
            "epoch: 12   -->  train accuracy = 0.96017,\ttest accuracy = 0.86533,\tloss = 0.05783\n",
            "epoch: 13   -->  train accuracy = 0.96088,\ttest accuracy = 0.87108,\tloss = 0.14703\n",
            "epoch: 14   -->  train accuracy = 0.96385,\ttest accuracy = 0.84813,\tloss = 0.07374\n",
            "epoch: 15   -->  train accuracy = 0.96442,\ttest accuracy = 0.84062,\tloss = 0.02685\n",
            "epoch: 16   -->  train accuracy = 0.96319,\ttest accuracy = 0.87542,\tloss = 0.06987\n",
            "epoch: 17   -->  train accuracy = 0.96650,\ttest accuracy = 0.86217,\tloss = 0.17223\n",
            "epoch: 18   -->  train accuracy = 0.96727,\ttest accuracy = 0.86192,\tloss = 0.07483\n",
            "epoch: 19   -->  train accuracy = 0.96625,\ttest accuracy = 0.87383,\tloss = 0.03432\n",
            "epoch: 20   -->  train accuracy = 0.96938,\ttest accuracy = 0.85825,\tloss = 0.14404\n",
            "epoch: 21   -->  train accuracy = 0.97050,\ttest accuracy = 0.83408,\tloss = 0.07720\n",
            "epoch: 22   -->  train accuracy = 0.97069,\ttest accuracy = 0.86142,\tloss = 0.02498\n",
            "epoch: 23   -->  train accuracy = 0.97088,\ttest accuracy = 0.86483,\tloss = 0.17062\n",
            "epoch: 24   -->  train accuracy = 0.97367,\ttest accuracy = 0.83917,\tloss = 0.12747\n",
            "epoch: 25   -->  train accuracy = 0.97300,\ttest accuracy = 0.85979,\tloss = 0.11006\n",
            "epoch: 26   -->  train accuracy = 0.97398,\ttest accuracy = 0.86075,\tloss = 0.01742\n",
            "epoch: 27   -->  train accuracy = 0.97552,\ttest accuracy = 0.84942,\tloss = 0.02672\n",
            "epoch: 28   -->  train accuracy = 0.97604,\ttest accuracy = 0.84854,\tloss = 0.01054\n",
            "epoch: 29   -->  train accuracy = 0.97671,\ttest accuracy = 0.84479,\tloss = 0.08401\n",
            "epoch: 30   -->  train accuracy = 0.97494,\ttest accuracy = 0.86817,\tloss = 0.12972\n",
            "epoch: 31   -->  train accuracy = 0.97683,\ttest accuracy = 0.85913,\tloss = 0.18594\n",
            "epoch: 32   -->  train accuracy = 0.97873,\ttest accuracy = 0.84437,\tloss = 0.07138\n",
            "epoch: 33   -->  train accuracy = 0.97531,\ttest accuracy = 0.80854,\tloss = 0.10301\n",
            "epoch: 34   -->  train accuracy = 0.97702,\ttest accuracy = 0.86775,\tloss = 0.07717\n",
            "epoch: 35   -->  train accuracy = 0.97877,\ttest accuracy = 0.82221,\tloss = 0.02536\n",
            "epoch: 36   -->  train accuracy = 0.98071,\ttest accuracy = 0.84054,\tloss = 0.02319\n",
            "epoch: 37   -->  train accuracy = 0.97985,\ttest accuracy = 0.82037,\tloss = 0.02600\n",
            "epoch: 38   -->  train accuracy = 0.98104,\ttest accuracy = 0.82488,\tloss = 0.02047\n",
            "epoch: 39   -->  train accuracy = 0.98138,\ttest accuracy = 0.82371,\tloss = 0.02314\n",
            "epoch: 40   -->  train accuracy = 0.97762,\ttest accuracy = 0.80192,\tloss = 0.01665\n",
            "epoch: 41   -->  train accuracy = 0.98212,\ttest accuracy = 0.85288,\tloss = 0.08675\n",
            "epoch: 42   -->  train accuracy = 0.98321,\ttest accuracy = 0.83192,\tloss = 0.02755\n",
            "epoch: 43   -->  train accuracy = 0.97973,\ttest accuracy = 0.86842,\tloss = 0.01891\n",
            "epoch: 44   -->  train accuracy = 0.98404,\ttest accuracy = 0.83604,\tloss = 0.02734\n",
            "epoch: 45   -->  train accuracy = 0.98429,\ttest accuracy = 0.84571,\tloss = 0.05194\n",
            "epoch: 46   -->  train accuracy = 0.98463,\ttest accuracy = 0.83733,\tloss = 0.05121\n",
            "epoch: 47   -->  train accuracy = 0.98467,\ttest accuracy = 0.84717,\tloss = 0.11292\n",
            "epoch: 48   -->  train accuracy = 0.98285,\ttest accuracy = 0.86446,\tloss = 0.09190\n",
            "epoch: 49   -->  train accuracy = 0.97735,\ttest accuracy = 0.78625,\tloss = 0.09949\n",
            "epoch: 50   -->  train accuracy = 0.98606,\ttest accuracy = 0.83783,\tloss = 0.02781\n",
            "Finished.\n"
          ],
          "name": "stdout"
        }
      ]
    },
    {
      "cell_type": "code",
      "metadata": {
        "id": "1oO0au9KZaOo",
        "colab_type": "code",
        "colab": {
          "base_uri": "https://localhost:8080/",
          "height": 34
        },
        "outputId": "12dac0b1-86b2-4190-d9d8-de94c0f219f1"
      },
      "source": [
        "#I show you how long it takes to work\n",
        "end = time.time()\n",
        "process_time = (end - start)/60\n",
        "print(\"Process Time\", process_time)"
      ],
      "execution_count": null,
      "outputs": [
        {
          "output_type": "stream",
          "text": [
            "Process Time 56.904849314689635\n"
          ],
          "name": "stdout"
        }
      ]
    },
    {
      "cell_type": "code",
      "metadata": {
        "id": "Xp7tVjuPZcl0",
        "colab_type": "code",
        "colab": {
          "base_uri": "https://localhost:8080/",
          "height": 466
        },
        "outputId": "6c6da16e-a0bc-47db-cc88-a9912a1c85af"
      },
      "source": [
        "fig, ax1 = plt.subplots(figsize=(12,7))\n",
        "\n",
        "ax1.plot(np.array(iterations)+1, test_acc, label='Test Accuracy', marker='o', color='pink')\n",
        "ax1.plot(np.array(iterations)+1, train_acc, label='Train Accuracy', marker='s', color='purple')\n",
        "ax1.set_xlabel('Epoch', fontsize=13)\n",
        "ax1.set_ylabel('Accuracy', fontsize=13)\n",
        "plt.legend()\n",
        "\n",
        "ax2 = ax1.twinx()\n",
        "ax2.plot(np.array(iterations)+1, loss_list, label='Loss', marker='P', color='green')\n",
        "ax2.set_ylabel('Loss', fontsize=13)\n",
        "plt.legend()\n",
        "plt.title('Accuracies & Loss', fontsize=20)\n",
        "plt.show()"
      ],
      "execution_count": null,
      "outputs": [
        {
          "output_type": "display_data",
          "data": {
            "image/png": "[encoded data removed]",
            "text/plain": [
              "<Figure size 864x504 with 2 Axes>"
            ]
          },
          "metadata": {
            "tags": [],
            "needs_background": "light"
          }
        }
      ]
    },
    {
      "cell_type": "code",
      "metadata": {
        "id": "ibJjt5B4PCpq",
        "colab_type": "code",
        "colab": {}
      },
      "source": [
        "#I start the RESNET part\n",
        "def conv3x3(in_planes, out_planes, stride = 1): #When doing convolution, stride = 1 means 1 offset. If stride = 2, it would shift 2. \n",
        "  return nn.Conv2d(in_planes, out_planes, kernel_size = 3, stride= stride, padding = 1, bias = False)# When we add a filter, the matrix that is 4x4 changes it to you. To prevent this, we add padding. We prevent it from losing information at low level. BatchNorm is going to make no need for bias\n",
        "\n",
        "def conv1x1(in_planes, out_planes, stride = 1):\n",
        "  return nn.Conv2d(in_planes, out_planes, kernel_size = 1, stride= stride, bias = False)"
      ],
      "execution_count": null,
      "outputs": []
    },
    {
      "cell_type": "code",
      "metadata": {
        "id": "7rKnMe6vUHxN",
        "colab_type": "code",
        "colab": {}
      },
      "source": [
        "class BasicBlock(nn.Module):\n",
        "  expansion = 1\n",
        "  def __init__(self, inplanes, planes, stride = 1, downsample = None):\n",
        "    super(BasicBlock,self).__init__()\n",
        "    self.conv3 = conv3x3(inplanes, planes, stride)\n",
        "    self.bn1 = nn.BatchNorm2d(planes) #batchNorm normalizes each block.\n",
        "    self.relu = nn.ReLU(inplace = True) #After calling relu activation it means sync the result to yourself.\n",
        "    self.drop = nn.Dropout(0.9)\n",
        "    self.conv4 = conv3x3(planes, planes)\n",
        "    self.bn2 = nn.BatchNorm2d(planes)\n",
        "    self.downsample = downsample\n",
        "    self.stride = stride\n",
        "  \n",
        "  def forward(self, x):\n",
        "    identity = x\n",
        "\n",
        "    out = self.conv3(x)\n",
        "    out = self.bn1(out)\n",
        "    out = self.relu(out)\n",
        "    out = self.drop(out)\n",
        "    out = self.conv4(out)\n",
        "    out = self.bn2(out)\n",
        "    out = self.drop(out)\n",
        "\n",
        "    #What were I doing on resNet? On the one hand, while the convolution batch continued, \n",
        "    #I were collecting the input and inserting it into relu. I am doing this against the vanishing gradient problem. \n",
        "    #The reason for writing the condition here is that we collect input and convolution input, \n",
        "    #or the matrix dimensions must be the same, so let's add. We do this with downsample.\n",
        "    if self.downsample is not None:\n",
        "      identity = self.downsample(x)\n",
        "\n",
        "    out = out + identity\n",
        "    out = self.relu(out)\n",
        "    return out"
      ],
      "execution_count": null,
      "outputs": []
    },
    {
      "cell_type": "code",
      "metadata": {
        "id": "6n0TxHSgVybD",
        "colab_type": "code",
        "colab": {}
      },
      "source": [
        "class ResNet(nn.Module):\n",
        "\n",
        "  def __init__(self, block, layers, num_classes = num_classes):\n",
        "    super(ResNet,self).__init__()\n",
        "    self.inplanes = 64\n",
        "    self.conv3 = nn.Conv2d(1,64, kernel_size = 7, stride = 2, padding = 3, bias = False)\n",
        "    self.bn1 = nn.BatchNorm2d(64)\n",
        "    self.relu = nn.ReLU(inplace = True)\n",
        "    self.maxpool = nn.MaxPool2d(kernel_size = 3, stride = 2, padding = 1)\n",
        "    self.layer1 = self._make_layer(block, 64, layers[0], stride = 1)\n",
        "    self.layer2 = self._make_layer(block, 128, layers[1], stride = 2)\n",
        "    self.layer3 = self._make_layer(block, 256, layers[2], stride = 2)\n",
        "\n",
        "    self.avgpool = nn.AdaptiveAvgPool2d((1,1)) #I give the output, I say no matter how you choose the filter.\n",
        "    self.fc4 = nn.Linear(256*block.expansion, num_classes)\n",
        "\n",
        "    for m in self.modules():\n",
        "      if isinstance(m,nn.Conv2d):\n",
        "        nn.init.kaiming_normal_(m.weight, mode = \"fan_out\", nonlinearity = \"relu\")\n",
        "      elif isinstance(m, nn.BatchNorm2d):\n",
        "        nn.init.constant_(m.weight, 1)\n",
        "        nn.init.constant_(m.bias, 0)\n",
        "\n",
        "  #The goal of the make layer is to create a block. combining basic blocks to create a new block. The most important part for ResNet\n",
        "  def _make_layer(self, block, planes, blocks, stride = 1):\n",
        "    downsample = None\n",
        "    if stride != 1 or self.inplanes != planes*block.expansion: #I mean I will have 1 blog expanded\n",
        "      downsample = nn.Sequential(\n",
        "          conv1x1(self.inplanes, planes*block.expansion, stride),\n",
        "          nn.BatchNorm2d(planes*block.expansion)\n",
        "      )\n",
        "\n",
        "    layers = []\n",
        "    layers.append(block(self.inplanes, planes, stride, downsample))\n",
        "    self.inplanes = planes*block.expansion\n",
        "\n",
        "    for _ in range(1, blocks):\n",
        "      layers.append(block(self.inplanes, planes))\n",
        "      \n",
        "    return torch.nn.Sequential(*layers)\n",
        "\n",
        "  def forward(self, x):\n",
        "    x = self.conv3(x)\n",
        "    x = self.bn1(x)\n",
        "    x = self.relu(x)\n",
        "    x = self.maxpool(x)\n",
        "    x = self.layer1(x)\n",
        "    x = self.layer2(x) \n",
        "    x = self.layer3(x)\n",
        "    x = self.avgpool(x)\n",
        "    x = x.view(x.size(0), -1)\n",
        "    x = self.fc4(x)\n",
        "    return x"
      ],
      "execution_count": null,
      "outputs": []
    },
    {
      "cell_type": "code",
      "metadata": {
        "id": "-h0MVxI2WPFp",
        "colab_type": "code",
        "colab": {}
      },
      "source": [
        "model = ResNet(BasicBlock, [2,2,2])"
      ],
      "execution_count": null,
      "outputs": []
    },
    {
      "cell_type": "code",
      "metadata": {
        "id": "PCM-JuUvWSN7",
        "colab_type": "code",
        "colab": {}
      },
      "source": [
        "#Loss Function and Optimizer\n",
        "criteria = nn.CrossEntropyLoss()\n",
        "optimizer = torch.optim.Adam(model.parameters(), lr = learning_rate)"
      ],
      "execution_count": null,
      "outputs": []
    },
    {
      "cell_type": "code",
      "metadata": {
        "id": "vUtB1OffWUJo",
        "colab_type": "code",
        "colab": {}
      },
      "source": [
        "#Train a network\n",
        "#I defined that because when I train the my dataset I will add the accuracy and loss value to the array nad then I will use it for visualizing.\n",
        "start = time.time()\n",
        "train_acc1 = []\n",
        "test_acc1 = []\n",
        "loss_list1 = []\n",
        "iterations1 = []\n",
        "use_gpu = True"
      ],
      "execution_count": null,
      "outputs": []
    },
    {
      "cell_type": "code",
      "metadata": {
        "id": "zx3Z-Ep1W7am",
        "colab_type": "code",
        "colab": {
          "base_uri": "https://localhost:8080/",
          "height": 901
        },
        "outputId": "db3bb70f-96d1-4bbe-fe39-32b740608d3b"
      },
      "source": [
        "for epoch in range(num_epochs+1):\n",
        "    for i, data in enumerate(trainloader):\n",
        "        \n",
        "        images, labels = data\n",
        "        images = images.view(images.size(0), 1, 64, 32) #reshaping\n",
        "        images = images.float()\n",
        "        \n",
        "        # using gpu\n",
        "        images, labels = images.to(device), labels.to(device)\n",
        "        \n",
        "        #forward\n",
        "        outputs = model(images)\n",
        "\n",
        "        #loss\n",
        "        loss = criterion(outputs, labels)\n",
        "\n",
        "        #zero gradient\n",
        "        optimizer.zero_grad()\n",
        "\n",
        "        #backprogation\n",
        "        loss.backward()\n",
        "\n",
        "        #update weights\n",
        "        optimizer.step()\n",
        "        \n",
        "        \n",
        "    # test set\n",
        "    correct = 0\n",
        "    total = 0\n",
        "    with torch.no_grad(): #closing the backprogation\n",
        "        for data in testloader:\n",
        "            images, labels = data\n",
        "            images = images.view(images.size(0), 1, 64, 32)\n",
        "            images = images.float()\n",
        "        \n",
        "            images, labels_test = images.to(device), labels.to(device)\n",
        "            \n",
        "            outputs = model(images)\n",
        "            _, predicted = torch.max(outputs, 1)\n",
        "            total += labels_test.size(0)\n",
        "            correct += (predicted == labels_test).sum().item()\n",
        "    \n",
        "    accuracy1 = correct / total\n",
        "\n",
        "    \n",
        "    # train set \n",
        "    correct = 0\n",
        "    total = 0\n",
        "    with torch.no_grad(): #closing the backprogation\n",
        "        for data in trainloader:\n",
        "            images, labels = data\n",
        "            images = images.view(images.size(0), 1, 64, 32)\n",
        "            images = images.float()\n",
        "        \n",
        "            images, labels_train = images.to(device), labels.to(device)\n",
        "            \n",
        "            outputs = model(images)\n",
        "            _, predicted = torch.max(outputs, 1)\n",
        "            total += labels_train.size(0)\n",
        "            correct += (predicted == labels_train).sum().item()\n",
        "    \n",
        "    accuracy2 = correct / total\n",
        "    \n",
        "    #add information to our array\n",
        "    loss_list1.append(loss.item())\n",
        "    train_acc1.append(accuracy2)\n",
        "    test_acc1.append(accuracy1)\n",
        "    iterations1.append(epoch)\n",
        "        \n",
        "    print('epoch: {}   -->  train accuracy = {:.5f},\\ttest accuracy = {:.5f},\\tloss = {:.5f}'.format(epoch, accuracy2, accuracy1, loss.item()))\n",
        "    \n",
        "\n",
        "print('Finished.')\n"
      ],
      "execution_count": null,
      "outputs": [
        {
          "output_type": "stream",
          "text": [
            "epoch: 0   -->  train accuracy = 0.79598,\ttest accuracy = 0.98121,\tloss = 0.54015\n",
            "epoch: 1   -->  train accuracy = 0.80240,\ttest accuracy = 0.98346,\tloss = 0.56956\n",
            "epoch: 2   -->  train accuracy = 0.80281,\ttest accuracy = 0.97429,\tloss = 0.49311\n",
            "epoch: 3   -->  train accuracy = 0.80763,\ttest accuracy = 0.96100,\tloss = 0.21546\n",
            "epoch: 4   -->  train accuracy = 0.82013,\ttest accuracy = 0.94437,\tloss = 0.23817\n",
            "epoch: 5   -->  train accuracy = 0.83329,\ttest accuracy = 0.94225,\tloss = 0.25087\n",
            "epoch: 6   -->  train accuracy = 0.84356,\ttest accuracy = 0.93358,\tloss = 0.30571\n",
            "epoch: 7   -->  train accuracy = 0.85335,\ttest accuracy = 0.93088,\tloss = 0.13441\n",
            "epoch: 8   -->  train accuracy = 0.86377,\ttest accuracy = 0.92104,\tloss = 0.26223\n",
            "epoch: 9   -->  train accuracy = 0.86988,\ttest accuracy = 0.92179,\tloss = 0.19193\n",
            "epoch: 10   -->  train accuracy = 0.87673,\ttest accuracy = 0.91854,\tloss = 0.25095\n",
            "epoch: 11   -->  train accuracy = 0.88373,\ttest accuracy = 0.91946,\tloss = 0.26508\n",
            "epoch: 12   -->  train accuracy = 0.89085,\ttest accuracy = 0.92117,\tloss = 0.24605\n",
            "epoch: 13   -->  train accuracy = 0.90054,\ttest accuracy = 0.92004,\tloss = 0.16296\n",
            "epoch: 14   -->  train accuracy = 0.90517,\ttest accuracy = 0.92200,\tloss = 0.38779\n",
            "epoch: 15   -->  train accuracy = 0.90919,\ttest accuracy = 0.92292,\tloss = 0.17383\n",
            "epoch: 16   -->  train accuracy = 0.91208,\ttest accuracy = 0.91633,\tloss = 0.14268\n",
            "epoch: 17   -->  train accuracy = 0.91598,\ttest accuracy = 0.91992,\tloss = 0.21640\n",
            "epoch: 18   -->  train accuracy = 0.91915,\ttest accuracy = 0.92329,\tloss = 0.23678\n",
            "epoch: 19   -->  train accuracy = 0.92231,\ttest accuracy = 0.92475,\tloss = 0.12863\n",
            "epoch: 20   -->  train accuracy = 0.92688,\ttest accuracy = 0.92529,\tloss = 0.23444\n",
            "epoch: 21   -->  train accuracy = 0.92962,\ttest accuracy = 0.92517,\tloss = 0.14279\n",
            "epoch: 22   -->  train accuracy = 0.93217,\ttest accuracy = 0.92421,\tloss = 0.36475\n",
            "epoch: 23   -->  train accuracy = 0.93242,\ttest accuracy = 0.92629,\tloss = 0.15681\n",
            "epoch: 24   -->  train accuracy = 0.93362,\ttest accuracy = 0.92721,\tloss = 0.23248\n",
            "epoch: 25   -->  train accuracy = 0.93613,\ttest accuracy = 0.92479,\tloss = 0.13806\n",
            "epoch: 26   -->  train accuracy = 0.93863,\ttest accuracy = 0.92367,\tloss = 0.13853\n",
            "epoch: 27   -->  train accuracy = 0.94067,\ttest accuracy = 0.93092,\tloss = 0.13756\n",
            "epoch: 28   -->  train accuracy = 0.94167,\ttest accuracy = 0.92812,\tloss = 0.28017\n",
            "epoch: 29   -->  train accuracy = 0.94185,\ttest accuracy = 0.93546,\tloss = 0.24555\n",
            "epoch: 30   -->  train accuracy = 0.94562,\ttest accuracy = 0.92779,\tloss = 0.27585\n",
            "epoch: 31   -->  train accuracy = 0.94615,\ttest accuracy = 0.93358,\tloss = 0.08913\n",
            "epoch: 32   -->  train accuracy = 0.94763,\ttest accuracy = 0.93383,\tloss = 0.15566\n",
            "epoch: 33   -->  train accuracy = 0.94812,\ttest accuracy = 0.93596,\tloss = 0.10645\n",
            "epoch: 34   -->  train accuracy = 0.95042,\ttest accuracy = 0.93412,\tloss = 0.12138\n",
            "epoch: 35   -->  train accuracy = 0.94971,\ttest accuracy = 0.93433,\tloss = 0.08480\n",
            "epoch: 36   -->  train accuracy = 0.95054,\ttest accuracy = 0.93537,\tloss = 0.13903\n",
            "epoch: 37   -->  train accuracy = 0.95263,\ttest accuracy = 0.93417,\tloss = 0.23919\n",
            "epoch: 38   -->  train accuracy = 0.95452,\ttest accuracy = 0.93129,\tloss = 0.14383\n",
            "epoch: 39   -->  train accuracy = 0.95298,\ttest accuracy = 0.93246,\tloss = 0.13919\n",
            "epoch: 40   -->  train accuracy = 0.95342,\ttest accuracy = 0.93775,\tloss = 0.07583\n",
            "epoch: 41   -->  train accuracy = 0.95371,\ttest accuracy = 0.93742,\tloss = 0.14676\n",
            "epoch: 42   -->  train accuracy = 0.95681,\ttest accuracy = 0.93933,\tloss = 0.21163\n",
            "epoch: 43   -->  train accuracy = 0.95537,\ttest accuracy = 0.93454,\tloss = 0.11936\n",
            "epoch: 44   -->  train accuracy = 0.95708,\ttest accuracy = 0.93763,\tloss = 0.09009\n",
            "epoch: 45   -->  train accuracy = 0.95627,\ttest accuracy = 0.93746,\tloss = 0.11738\n",
            "epoch: 46   -->  train accuracy = 0.95781,\ttest accuracy = 0.93554,\tloss = 0.03356\n",
            "epoch: 47   -->  train accuracy = 0.95788,\ttest accuracy = 0.93575,\tloss = 0.27251\n",
            "epoch: 48   -->  train accuracy = 0.96010,\ttest accuracy = 0.94208,\tloss = 0.45309\n",
            "epoch: 49   -->  train accuracy = 0.95925,\ttest accuracy = 0.93737,\tloss = 0.06159\n",
            "epoch: 50   -->  train accuracy = 0.95894,\ttest accuracy = 0.93958,\tloss = 0.13173\n",
            "Finished.\n"
          ],
          "name": "stdout"
        }
      ]
    },
    {
      "cell_type": "code",
      "metadata": {
        "id": "pLVNTYjqXN3D",
        "colab_type": "code",
        "colab": {
          "base_uri": "https://localhost:8080/",
          "height": 34
        },
        "outputId": "c3ac6a70-2f4b-4fe1-c668-9fdc8d9cd451"
      },
      "source": [
        "end = time.time()\n",
        "process_time = (end - start)/60\n",
        "print(\"Process Time\", process_time)"
      ],
      "execution_count": null,
      "outputs": [
        {
          "output_type": "stream",
          "text": [
            "Process Time 514.0017169157665\n"
          ],
          "name": "stdout"
        }
      ]
    },
    {
      "cell_type": "code",
      "metadata": {
        "id": "vpsgK2EgXOlq",
        "colab_type": "code",
        "colab": {
          "base_uri": "https://localhost:8080/",
          "height": 466
        },
        "outputId": "9203b3fe-fc03-430d-b745-5fc39b60f0bb"
      },
      "source": [
        "fig, ax1 = plt.subplots(figsize=(12,7))\n",
        "\n",
        "ax1.plot(np.array(iterations1)+1, test_acc1, label='Test Accuracy', marker='o', color='pink')\n",
        "ax1.plot(np.array(iterations1)+1, train_acc1, label='Train Accuracy', marker='s', color='purple')\n",
        "ax1.set_xlabel('Epoch', fontsize=13)\n",
        "ax1.set_ylabel('Accuracy', fontsize=13)\n",
        "plt.legend()\n",
        "\n",
        "ax2 = ax1.twinx()\n",
        "ax2.plot(np.array(iterations1)+1, loss_list1, label='Loss', marker='P', color='green')\n",
        "ax2.set_ylabel('Loss', fontsize=13)\n",
        "plt.legend()\n",
        "plt.title('Accuracies & Loss', fontsize=20)\n",
        "plt.show()"
      ],
      "execution_count": null,
      "outputs": [
        {
          "output_type": "display_data",
          "data": {
            "image/png": "[encoded data removed]",
            "text/plain": [
              "<Figure size 864x504 with 2 Axes>"
            ]
          },
          "metadata": {
            "tags": [],
            "needs_background": "light"
          }
        }
      ]
    },
    {
      "cell_type": "markdown",
      "metadata": {
        "id": "OAvR6WFobVvQ",
        "colab_type": "text"
      },
      "source": [
        "In conclusion, my aim in this project was to compare the two models with the same epoch number, batch size and learning rate, both in terms of runtime and in terms of test and train accuracy, to decide which algorithm we should choose when we encounter a problem in the future. I think I did that too. As a result of 50 iterations in CNN, train accuracy was 0.98606, test accuracy was 0.83783, loss value was 0.02781. There are two important problems that we will encounter in deep learning. The first is undefitting, the other is overfitting. Underfitting can be translated as less training and overfitting as memorization. We have trained our data, we looked at train accuracy, it was high, but we can not say immediately that we found the right result. We have to look at the test accuracye to see if there is overfitting. If train accuracy is high, test accuracy is low, we understand that overfitting has occurred. In this case, by changing the hyperparameters, that is, changing the concepts such as epoch number, batch size, retraining the model and following the results, the best hyperparameter numbers are decided. When looking at the CNN model results, the train accuracy value is very good, the test accuracy value is also very good, so there is no overfitting. Anyway, what I want to do in this project is, of course, to avoid concepts such as overfitting underfitting, but as I said, my main goal is to give better results based on the same hyperparameters based on several criteria. As I mentioned at the beginning of the project, my other purpose is to avoid the vanishing gradient problem. If we look at the result I got in ResNet after 50 iterations, train accuracy was 0.95894, test accuracy was 0.93958, loss value was 0.13173. When we compare the two algorithms, CNN and ResNet, ResNet gave us a much higher accuracy result. However, when working times are compared, we see that ResNet worked much slower than CNN. In terms of time, ResNet is disadvantageous but fine in terms of accuracy. Meanwhile, since the ResNette train and test accuracy values were high, that is, close and high values, there was no overfitting situation. In general, we had pictures of IR value. We made classification on these pictures, so whether IR walked or not walked in IR pictures, we classified it.According to our results, ResNet gave a much higher accuracy value than CNN without vanishing gradient problems.\n"
      ]
    }
  ]
}
